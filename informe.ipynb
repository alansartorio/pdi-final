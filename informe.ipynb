version https://git-lfs.github.com/spec/v1
oid sha256:41654f9b88f10dc6f2f9ed58351a5a826f3b2057247ff1eea98ea01ec03235c6
size 1088993
