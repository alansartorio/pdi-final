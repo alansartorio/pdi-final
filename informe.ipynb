version https://git-lfs.github.com/spec/v1
oid sha256:9473f99d5ca6e328a5700af93e493ea1c75f659673a747cd84f79181de425b16
size 304251
