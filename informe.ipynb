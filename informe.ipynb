version https://git-lfs.github.com/spec/v1
oid sha256:10792d7b72ffaf2ab1fa7c04174e8c4db31a628ed29837d41939f148e2fb5b54
size 1318563
